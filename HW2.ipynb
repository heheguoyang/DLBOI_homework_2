{
  "cells": [
    {
      "cell_type": "markdown",
      "metadata": {
        "id": "view-in-github",
        "colab_type": "text"
      },
      "source": [
        "<a href=\"https://colab.research.google.com/github/heheguoyang/DLB_homework_2/blob/main/HW2.ipynb\" target=\"_parent\"><img src=\"https://colab.research.google.com/assets/colab-badge.svg\" alt=\"Open In Colab\"/></a>"
      ]
    },
    {
      "cell_type": "markdown",
      "metadata": {
        "id": "qMyx7zJdsLnp"
      },
      "source": [
        "# **Homework 2**"
      ]
    },
    {
      "cell_type": "markdown",
      "metadata": {
        "id": "EppuFnbCtNIL"
      },
      "source": [
        "## **Basis of Numpy Library**"
      ]
    },
    {
      "cell_type": "markdown",
      "metadata": {
        "id": "E0InkejMaoc0"
      },
      "source": [
        "Numpy is the core library for scientific computing in Python. It provides a high-performance multidimensional array object and tools for working with these **arrays**."
      ]
    },
    {
      "cell_type": "markdown",
      "metadata": {
        "id": "1v3TemB-as9m"
      },
      "source": [
        "To use Numpy, we first need to import the `numpy` package:"
      ]
    },
    {
      "cell_type": "code",
      "execution_count": null,
      "metadata": {
        "id": "wkdPPs8Ual1P"
      },
      "outputs": [],
      "source": [
        "# import library\n"
      ]
    },
    {
      "cell_type": "markdown",
      "metadata": {
        "id": "WmaZo-Cwai-R"
      },
      "source": [
        "### **Arrays**"
      ]
    },
    {
      "cell_type": "markdown",
      "metadata": {
        "id": "Omuw2muIbUf-"
      },
      "source": [
        "- A numpy array is a grid of values, all of the same type, and is indexed by a tuple of nonnegative integers.\n",
        "\n",
        "- The number of dimensions is the rank of the array;\n",
        "\n",
        "- The shape of an array is a tuple of integers giving the size of the array along each dimension."
      ]
    },
    {
      "cell_type": "markdown",
      "source": [
        "**Exercise:**\n",
        "- What is an **array**?\n",
        "- Give an example that can be represented by an array."
      ],
      "metadata": {
        "id": "XwMFcAYGHMe1"
      }
    },
    {
      "cell_type": "code",
      "execution_count": null,
      "metadata": {
        "id": "GqHLJVRAaYm5"
      },
      "outputs": [],
      "source": [
        "# create 1d array\n"
      ]
    },
    {
      "cell_type": "code",
      "execution_count": null,
      "metadata": {
        "id": "bCWi5Xo8bjuB"
      },
      "outputs": [],
      "source": [
        "# print shape\n"
      ]
    },
    {
      "cell_type": "code",
      "execution_count": null,
      "metadata": {
        "id": "OR6kuX1IbyuK"
      },
      "outputs": [],
      "source": [
        "# create 2d array\n"
      ]
    },
    {
      "cell_type": "code",
      "execution_count": null,
      "metadata": {
        "id": "27cuNwgLcTRm"
      },
      "outputs": [],
      "source": [
        "# print shape\n"
      ]
    },
    {
      "cell_type": "code",
      "execution_count": null,
      "metadata": {
        "id": "nbSMAgoDcZxz"
      },
      "outputs": [],
      "source": [
        "# create 3d array\n"
      ]
    },
    {
      "cell_type": "code",
      "execution_count": null,
      "metadata": {
        "id": "mvSWGMOScgGo"
      },
      "outputs": [],
      "source": [
        "# print shape\n"
      ]
    },
    {
      "cell_type": "markdown",
      "metadata": {
        "id": "QdGQ0zYAeG75"
      },
      "source": [
        "### **Array Indexing**"
      ]
    },
    {
      "cell_type": "code",
      "execution_count": null,
      "metadata": {
        "id": "zdCkuMr6eHiD"
      },
      "outputs": [],
      "source": [
        "# print the second element in your 1d array\n"
      ]
    },
    {
      "cell_type": "code",
      "execution_count": null,
      "metadata": {
        "id": "op2QqmpPeYck"
      },
      "outputs": [],
      "source": [
        "# print the first row second element in your 2d array\n"
      ]
    },
    {
      "cell_type": "code",
      "execution_count": null,
      "metadata": {
        "id": "vjPpPvaAfZSW"
      },
      "outputs": [],
      "source": [
        "# print the first rank first row second element in your 3d array\n"
      ]
    },
    {
      "cell_type": "markdown",
      "metadata": {
        "id": "u6KW251LhV6s"
      },
      "source": [
        "### **Array Operations**"
      ]
    },
    {
      "cell_type": "code",
      "execution_count": null,
      "metadata": {
        "id": "Br1t_huKhYt_"
      },
      "outputs": [],
      "source": [
        "# create 2 2d-array\n",
        "\n",
        "\n",
        "# Elementwise sum; both produce an array\n"
      ]
    },
    {
      "cell_type": "code",
      "execution_count": null,
      "metadata": {
        "id": "hdbcX4o1jIUC"
      },
      "outputs": [],
      "source": [
        "# Elementwise difference; both produce an array\n"
      ]
    },
    {
      "cell_type": "code",
      "execution_count": null,
      "metadata": {
        "id": "kDpq2bjKjRaV"
      },
      "outputs": [],
      "source": [
        "# Elementwise division; both produce an array\n"
      ]
    },
    {
      "cell_type": "code",
      "execution_count": null,
      "metadata": {
        "id": "4PvxB3fmjIwS"
      },
      "outputs": [],
      "source": [
        "# Elementwise product; both produce the array\n"
      ]
    },
    {
      "cell_type": "code",
      "source": [
        "# Dot product or matrix multiplication\n"
      ],
      "metadata": {
        "id": "uo6lLN9pYVCY"
      },
      "execution_count": null,
      "outputs": []
    },
    {
      "cell_type": "markdown",
      "source": [
        "## Basis of OpenCV"
      ],
      "metadata": {
        "id": "_U0Lf-5GZIfo"
      }
    },
    {
      "cell_type": "code",
      "source": [
        "from google.colab import drive\n",
        "drive.mount('/content/drive/')"
      ],
      "metadata": {
        "colab": {
          "base_uri": "https://localhost:8080/"
        },
        "id": "pvmfH2c_ZMu5",
        "outputId": "95c56735-ca75-4bbf-e1ac-e90a0d710015"
      },
      "execution_count": null,
      "outputs": [
        {
          "output_type": "stream",
          "name": "stdout",
          "text": [
            "Mounted at /content/drive/\n"
          ]
        }
      ]
    },
    {
      "cell_type": "code",
      "source": [
        "# read file\n",
        "import cv2\n",
        "from google.colab.patches import cv2_imshow\n",
        "\n",
        "filename = '/content/drive/MyDrive/PhD/DLBOI/HW2/hw2.png' # your file path\n"
      ],
      "metadata": {
        "id": "f1b7B7QodWKV"
      },
      "execution_count": null,
      "outputs": []
    },
    {
      "cell_type": "code",
      "source": [
        "# Rotate\n"
      ],
      "metadata": {
        "id": "sq9Gwh3xepCt"
      },
      "execution_count": null,
      "outputs": []
    },
    {
      "cell_type": "code",
      "source": [
        "# Denoise by filter\n"
      ],
      "metadata": {
        "id": "oRpSqegse8jQ"
      },
      "execution_count": null,
      "outputs": []
    },
    {
      "cell_type": "code",
      "source": [],
      "metadata": {
        "id": "COOKR1uTzcnb"
      },
      "execution_count": null,
      "outputs": []
    }
  ],
  "metadata": {
    "colab": {
      "provenance": [],
      "toc_visible": true,
      "include_colab_link": true
    },
    "kernelspec": {
      "display_name": "Python 3 (ipykernel)",
      "language": "python",
      "name": "python3"
    },
    "language_info": {
      "codemirror_mode": {
        "name": "ipython",
        "version": 3
      },
      "file_extension": ".py",
      "mimetype": "text/x-python",
      "name": "python",
      "nbconvert_exporter": "python",
      "pygments_lexer": "ipython3",
      "version": "3.8.13"
    }
  },
  "nbformat": 4,
  "nbformat_minor": 0
}